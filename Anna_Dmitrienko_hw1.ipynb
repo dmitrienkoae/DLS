{
  "cells": [
    {
      "cell_type": "markdown",
      "metadata": {
        "id": "view-in-github",
        "colab_type": "text"
      },
      "source": [
        "<a href=\"https://colab.research.google.com/github/dmitrienkoae/DLS/blob/main/Anna_Dmitrienko_hw1.ipynb\" target=\"_parent\"><img src=\"https://colab.research.google.com/assets/colab-badge.svg\" alt=\"Open In Colab\"/></a>"
      ]
    },
    {
      "cell_type": "markdown",
      "metadata": {
        "id": "5rUp2xWkdGFu"
      },
      "source": [
        "# Homework 1: Autoregressive models"
      ]
    },
    {
      "cell_type": "markdown",
      "metadata": {
        "id": "DNRZuT8Lf43d"
      },
      "source": [
        "## Task 1. Theory (5pt)"
      ]
    },
    {
      "cell_type": "markdown",
      "metadata": {
        "id": "QLGp4c5UPByO"
      },
      "source": [
        "### Problem 1: Sampling from KDE (2pt)\n",
        "\n",
        "Let $\\hat{p}_h(x) = \\frac{1}{n h^d} \\sum\\limits_{i = 1}^{n} K\\left(\\frac{x - X_i}{h}\\right)$ is the Kernel Density Estimator (see seminar 1) of a density $p_{\\pi}$, where $X_1, \\dots, X_n \\sim p_{\\pi}$, $X_i \\in \\mathbb{R}^d$.\n",
        "\n",
        "Consider the following sampling scheme:\n",
        ">\n",
        ">1. Choose random number $k$ uniformly from the collection of numbers $\\{1, 2, \\dots, n\\}$.\n",
        ">\n",
        ">2. Sample the random variable $\\tilde{X}$ from the kernel $\\frac{1}{h^d} K\\left(\\frac{x - X_k}{h}\\right)$.\n",
        ">\n",
        "\n",
        "Prove, that $\\tilde{X}$ is distributed according to $\\hat{p}_h(x)$, i.e. the scheme above is the correct sampling scheme for $\\hat{p}_h(x)$."
      ]
    },
    {
      "cell_type": "markdown",
      "metadata": {
        "id": "P0HFuytJPQ7o"
      },
      "source": [
        "```\n",
        "your solution for problem 1\n",
        "\n",
        "Let $ P_{\\tilde{X}}$ be a сdf of $\\tilde{X}$, so by the sampling scheme:\n",
        "\n",
        "  $$ P_{\\tilde{X}} = \\sum_k P(K=k)P(\\tilde{X} < x | K = k) = //\\text{K is a random variable from 1. in scheme}//\n",
        "   = \\sum_k \\frac{1}{n} \\frac{1}{h^d}K(\\frac{x - X_k}{h}) = \\hat{p}_h(x) $$ "
      ]
    },
    {
      "cell_type": "markdown",
      "metadata": {
        "id": "tk8-eCJuaTrU"
      },
      "source": [
        "## Problem 2: MADE theory (2pt)\n",
        "\n",
        "Consider the [MADE](https://arxiv.org/abs/1502.03509) model with a single hidden layer (we have discussed it at seminar 2). The input object is $\\mathbf{x} \\in \\mathbb{R}^m$. We denote by $\\mathbf{W} \\in \\mathbb{R}^{h \\times m}$ the matrix of weights between the input and the hidden layer, and by $\\mathbf{V} \\in \\mathbb{R}^{m \\times h}$ the matrix of weights between the hidden and the output layer ($h$ is the number of neurons in the hidden layer). Let us generate the correct autoregressive masks $\\mathbf{M}_{\\mathbf{W}} \\in \\mathbb{R}^{h \\times m}$ and $\\mathbf{M}_{\\mathbf{V}} \\in \\mathbb{R}^{m \\times h}$ (the generation algorithm is given in Lecture 1) for the direct order of variables\n",
        "$$\n",
        "    p(\\mathbf{x}) = p(x_1) \\cdot p(x_2 | x_1) \\cdot \\dots \\cdot p(x_m | x_{m-1}, \\dots, x_1).\n",
        "$$ \n",
        "(The order of neurons is given by indices at the probabilities in the formula. In this case, it is a direct order.)\n",
        "\n",
        "Each mask is a binary matrix of 0 and 1. Let's introduce the matrix $\\mathbf{M} = \\mathbf{M}_{\\mathbf{V}} \\mathbf{M}_{\\mathbf{W}}$. Prove that:\n",
        "* $\\mathbf{M}$ is strictly lower triangular (has zeros on the diagonal and above the diagonal);\n",
        "* $\\mathbf{M}_{ij}$  is equal to the number of paths in the network graph between the output neuron $\\hat{x}_i$ and the input neuron $x_j$."
      ]
    },
    {
      "cell_type": "markdown",
      "metadata": {
        "id": "erVRXwzqPHwV"
      },
      "source": [
        "```\n",
        "your solution for problem 2\n",
        "```\n",
        "\n",
        "\n",
        "As shown in the paper, $M_{k, d}^{\\mathbf{W}}=1_{m(k) \\geq d}= \\begin{cases}1 & \\text { if } m(k) \\geq d \\\\ 0 & \\text { otherwise }\\end{cases} $,   and \n",
        "$ M_{d, k}^{\\mathbf{V}}=1_{d>m(k)}= \\begin{cases}1 & \\text { if } d>m(k) \\\\ 0 & \\text { otherwise }\\end{cases}$\n",
        "\n",
        "So, $M_{d^{\\prime}, d}=\\sum_{k=1}^K M_{d^{\\prime}, k}^{\\mathbf{V}} M_{k, d}^{\\mathbf{W}}=\\sum_{k=1}^K 1_{d^{\\prime}>m(k)} 1_{m(k) \\geq d}$\n",
        "\n",
        "1. Considering $d' < d$ we can see that there are no numbers that: $ d \\leq m(k)  < d' \\leq d$, so $M_{d^{\\prime}, d} = 0,$ if ${d^{\\prime} \\leq d}.$\n",
        "\n",
        "2. If there are $x_{d^{\\prime}} \\rightarrow h_k \\rightarrow \\hat{x}_d$ then $\\mathbf{M^V}_{d^{\\prime}k}\\mathbf{M^W}_{kd} = 1$. And as a result: \n",
        "$$\n",
        "\\mathbf{M}_{d^{\\prime}, d} = \\sum_{k=0}^{h}\\mathbf{M^V}_{d^{\\prime}k}\\mathbf{M^W}_{kd},\n",
        "$$\n",
        "\n",
        "It is exactly the total number of unique paths of the form $x_{d} \\rightarrow \\hat{x}_{d'}$ in the neural network graph.  There cannot be other paths of the form $x_{d} \\rightarrow \\hat{x}_{d'}$ in the graph, because it has no edges in the opposite direction, and all possible \"direct paths\" are taken into account in the sum. Thus, $\\mathbf{M}_{d',d}$ is equal to the number of paths in the neural network graph between vertices $x_d$ and $\\hat{x}_{d'}$."
      ]
    },
    {
      "cell_type": "markdown",
      "metadata": {
        "id": "ivV4DY1SPEIL"
      },
      "source": [
        "### Problem 3: $\\alpha$-divergence (1pt)\n",
        "\n",
        "In the course, we will meet different divergences (not only $KL$). So let's get acquainted with the class of $\\alpha$-divergences:\n",
        "$$\n",
        "    D_{\\alpha}(p || q) = \\frac{4}{1 - \\alpha^2} \\left( 1 - \\int p(x)^{\\frac{1 + \\alpha}{2}}q(x)^{\\frac{1 - \\alpha}{2}}dx\\right).\n",
        "$$\n",
        "For each $\\alpha \\in [-\\infty; +\\infty]$ the function $D_{\\alpha} (p || q)$ is a measure of the similarity between two distributions. $D_{\\alpha} (p || q)$ has different properties for different $\\alpha$.\n",
        "\n",
        "Prove that for $\\alpha \\rightarrow 1$ the divergence $D_{\\alpha}(p || q) \\rightarrow KL(p || q)$, and for $\\alpha \\rightarrow -1$ the divergence $D_{\\alpha}(p || q) \\rightarrow KL(q || p)$. \n",
        "\n",
        "**Hint:** use the fact that $t^\\varepsilon = \\exp(\\varepsilon \\cdot \\ln t) = 1 + \\varepsilon \\cdot \\ln t + O(\\varepsilon^2)$."
      ]
    },
    {
      "cell_type": "markdown",
      "metadata": {
        "id": "fEWPbQDjf43i"
      },
      "source": [
        "```\n",
        "your solution for problem 3\n",
        "```\n",
        "\n",
        "Let be\n",
        "$$\n",
        "\\beta = \\frac{1 - \\alpha}{2},\n",
        "$$\n",
        "Then\n",
        "$$\n",
        "\\alpha = 1 - 2 \\beta, \\quad \\frac{1 + \\alpha}{2} = 1 - \\beta.\n",
        "$$\n",
        "\n",
        "$$\n",
        "D_{\\beta}(p || q) = \\frac{4}{1 - 1 + 4 \\beta - 4 \\beta^2} \\left( 1 - \\int p(x)^{1 - \\beta}q(x)^{\\beta}dx\\right)\n",
        "= \\frac{1}{\\beta (1 - \\beta)} \\left( 1 - \\int p(x)^{1 - \\beta}q(x)^{\\beta}dx\\right).\n",
        "$$\n",
        "\n",
        "$$\n",
        "\\begin{aligned}\n",
        "\\lim_{\\alpha \\rightarrow 1} D_{\\alpha}(p || q)\n",
        "= \\lim_{\\beta \\rightarrow 0} D_{\\beta}(p || q)\n",
        "&= \\lim_{\\beta \\rightarrow 0} \\frac{1}{\\beta (1 - \\beta)} \\left( 1 - \\int p(x)^{1 - \\beta}q(x)^{\\beta}dx\\right) \\\\\n",
        "&= // f =  1 - \\int p(x)^{1 - \\beta}q(x)^{\\beta}dx, g = \\beta (1 - \\beta) // \\\\\n",
        "&= \\lim_{\\beta \\rightarrow 0} \\frac{f}{g} = // \\frac{0}{0} //\n",
        "\\end{aligned}\n",
        "$$\n",
        "\n",
        "Let's apply L'Hopital's rule.\n",
        "By hint:\n",
        "$$\n",
        "f' = - \\frac{d}{d\\beta} \\int p^{1-\\beta} q^\\beta dx =  \\int p^{1-\\beta} \\log p \\cdot q^\\beta dx - \\int q^\\beta \\log q \\cdot p^{1-\\beta} dx\n",
        "$$\n",
        "$$\n",
        "g' = 1 - 2\\beta\n",
        "$$\n",
        "\n",
        "So, \n",
        "$$\n",
        "\\begin{aligned}\n",
        " \\frac{f'}{g'} = - \\frac{\\int p^{1-\\beta}q^\\beta \\log{\\frac{q}{p}} dx}{1-2\\beta}\n",
        "\\end{aligned}\n",
        "$$\n",
        "$$\n",
        "\\begin{aligned}\n",
        "\\lim_{\\alpha \\rightarrow -1} \\frac{f'}{g'} = \\lim_{\\beta \\rightarrow 0} \\frac{f'}{g'} = \\int p(x) \\log\\left[ \\frac{p(x)}{q(x)} \\right] dx \\\\= KL(p || q),\n",
        "\\end{aligned}\n",
        "$$\n",
        "\n",
        "$$\n",
        "\\begin{aligned}\n",
        "\\lim_{\\alpha \\rightarrow 1} \\frac{f'}{g'} = \\lim_{\\beta \\rightarrow 1} \\frac{f'}{g'} = \\int q(x) \\log\\left[ \\frac{q(x)}{p(x)} \\right] dx \\\\= KL(q || p),\n",
        "\\end{aligned}\n",
        "$$"
      ]
    },
    {
      "cell_type": "markdown",
      "metadata": {
        "id": "wt9ZS14Tf43j"
      },
      "source": [
        "### Problem 4*: Histogram for continuous random vectors in $\\mathbb{R}^d$ (extra 2pt)\n",
        "\n",
        "Let $\\xi \\in \\mathbb{R}^d$ is an absolutely continuous random vector in with probability density function $p_{\\xi}(x)$ , such that $\\,\\text{supp}(p_{\\xi}) \\subseteq [0, 1]^{d}$ ($p_{\\xi}(x) = 0 \\,\\, \\forall x \\in \\mathbb{R}^d \\backslash [0, 1]^d$). Additionally assume, that $p_{\\xi}$ is *Lipschitz continuous* with Lipschitz constant $L$, i.e.:\n",
        "$$\n",
        "\\vert p_{\\xi}(x) - p_{\\xi}(y) \\vert \\leq L \\Vert x - y \\Vert_2\\ \\forall x, y \\in \\mathbb{R}^d .\n",
        "$$  \n",
        "\n",
        "Let $X_1, X_2, \\dots, X_n$ be i.i.d sample from $\\xi$. Consider dividing the hypercube $[0, 1]^d$ into subcubes $C_1, C_2, \\dots, C_N$ with the side length equals to $h$ (i.e. we obtain $N = \\left(\\frac{1}{h}\\right)^{d}$ subcubes). The histogram density estimator is as follows: \n",
        "\n",
        "$$\n",
        "\\hat{p}_h(x) = \\sum\\limits_{j = 1}^{N} \\frac{\\hat{\\theta_j}}{h^d} I\\left( x \\in C_j\\right).\n",
        "$$\n",
        "\n",
        "In the equation above $I(\\,\\cdot\\,)$ is the indicator function and $\\hat{\\theta_j} = \\frac{1}{n} \\sum\\limits_{i = 1}^{n} I(X_i \\in C_j)$.\n",
        "\n",
        "Let's estimate the discrepancy between true density $p_{\\xi}(x)$ and histogram density estimator $\\hat{p}_h(x)$. Consider the $MSE(x, h) = \\mathbb{E}(\\hat{p}_h(x)) - p_{\\xi}(x))^2$ (the expectation is taken over sample $X_1, \\dots, X_n$). \n",
        "\n",
        "* (a) Find an upper bound on $MSE(x, h)$ in terms of $L, h, d, n$. (**Hint:** utilize bias - variance decomposition and deal with each term separately) \n",
        "\n",
        "* (b) Find $h = h_n$ which minimizes the upper bound on $MSE(x, h)$. At which rate $MSE(x, h_n)$ converges to zero?"
      ]
    },
    {
      "cell_type": "markdown",
      "metadata": {
        "id": "8H_qth_4f43j"
      },
      "source": [
        "```\n",
        "your solution for problem 4\n",
        "```"
      ]
    },
    {
      "cell_type": "markdown",
      "metadata": {
        "id": "d2LH7vKPPVUt"
      },
      "source": [
        "Now it time to move on to practical part of homework.\n",
        "\n",
        "In our course we have a small util [package](https://github.com/r-isachenko/2022-DGM-Ozon-course/blob/main/homeworks/dgm_utils/utils.py) with some usefull functions for loading and visualizing the images and training plots. In each homework there is a cell with installing this package. Please read carefully what functions we have in this package. It could help you to solve the tasks."
      ]
    },
    {
      "cell_type": "code",
      "execution_count": null,
      "metadata": {
        "colab": {
          "base_uri": "https://localhost:8080/"
        },
        "id": "7wXq7VJ_SRAl",
        "outputId": "1e67940b-ce51-43bf-c9a5-b9219d42f934"
      },
      "outputs": [
        {
          "output_type": "stream",
          "name": "stdout",
          "text": [
            "Cloning into '2022-2023-DGM-MIPT-course'...\n",
            "remote: Enumerating objects: 403, done.\u001b[K\n",
            "remote: Counting objects: 100% (137/137), done.\u001b[K\n",
            "remote: Compressing objects: 100% (112/112), done.\u001b[K\n",
            "remote: Total 403 (delta 43), reused 101 (delta 24), pack-reused 266\u001b[K\n",
            "Receiving objects: 100% (403/403), 188.91 MiB | 48.69 MiB/s, done.\n",
            "Resolving deltas: 100% (47/47), done.\n",
            "Looking in indexes: https://pypi.org/simple, https://us-python.pkg.dev/colab-wheels/public/simple/\n",
            "Processing ./2022-2023-DGM-MIPT-course/homeworks\n",
            "\u001b[33m  DEPRECATION: A future pip version will change local packages to be built in-place without first copying to a temporary directory. We recommend you use --use-feature=in-tree-build to test your packages with this new behavior before it becomes the default.\n",
            "   pip 21.3 will remove support for this functionality. You can find discussion regarding this at https://github.com/pypa/pip/issues/7555.\u001b[0m\n",
            "Requirement already satisfied: numpy in /usr/local/lib/python3.7/dist-packages (from dgm-utils==0.1.0) (1.21.6)\n",
            "Requirement already satisfied: matplotlib in /usr/local/lib/python3.7/dist-packages (from dgm-utils==0.1.0) (3.2.2)\n",
            "Requirement already satisfied: pillow in /usr/local/lib/python3.7/dist-packages (from dgm-utils==0.1.0) (7.1.2)\n",
            "Requirement already satisfied: tqdm in /usr/local/lib/python3.7/dist-packages (from dgm-utils==0.1.0) (4.64.1)\n",
            "Requirement already satisfied: torch in /usr/local/lib/python3.7/dist-packages (from dgm-utils==0.1.0) (1.12.1+cu113)\n",
            "Requirement already satisfied: torchvision in /usr/local/lib/python3.7/dist-packages (from dgm-utils==0.1.0) (0.13.1+cu113)\n",
            "Requirement already satisfied: torchaudio in /usr/local/lib/python3.7/dist-packages (from dgm-utils==0.1.0) (0.12.1+cu113)\n",
            "Requirement already satisfied: gdown in /usr/local/lib/python3.7/dist-packages (from dgm-utils==0.1.0) (4.4.0)\n",
            "Requirement already satisfied: scikit-learn in /usr/local/lib/python3.7/dist-packages (from dgm-utils==0.1.0) (1.0.2)\n",
            "Requirement already satisfied: six in /usr/local/lib/python3.7/dist-packages (from gdown->dgm-utils==0.1.0) (1.15.0)\n",
            "Requirement already satisfied: beautifulsoup4 in /usr/local/lib/python3.7/dist-packages (from gdown->dgm-utils==0.1.0) (4.6.3)\n",
            "Requirement already satisfied: requests[socks] in /usr/local/lib/python3.7/dist-packages (from gdown->dgm-utils==0.1.0) (2.23.0)\n",
            "Requirement already satisfied: filelock in /usr/local/lib/python3.7/dist-packages (from gdown->dgm-utils==0.1.0) (3.8.0)\n",
            "Requirement already satisfied: kiwisolver>=1.0.1 in /usr/local/lib/python3.7/dist-packages (from matplotlib->dgm-utils==0.1.0) (1.4.4)\n",
            "Requirement already satisfied: python-dateutil>=2.1 in /usr/local/lib/python3.7/dist-packages (from matplotlib->dgm-utils==0.1.0) (2.8.2)\n",
            "Requirement already satisfied: pyparsing!=2.0.4,!=2.1.2,!=2.1.6,>=2.0.1 in /usr/local/lib/python3.7/dist-packages (from matplotlib->dgm-utils==0.1.0) (3.0.9)\n",
            "Requirement already satisfied: cycler>=0.10 in /usr/local/lib/python3.7/dist-packages (from matplotlib->dgm-utils==0.1.0) (0.11.0)\n",
            "Requirement already satisfied: typing-extensions in /usr/local/lib/python3.7/dist-packages (from kiwisolver>=1.0.1->matplotlib->dgm-utils==0.1.0) (4.1.1)\n",
            "Requirement already satisfied: idna<3,>=2.5 in /usr/local/lib/python3.7/dist-packages (from requests[socks]->gdown->dgm-utils==0.1.0) (2.10)\n",
            "Requirement already satisfied: urllib3!=1.25.0,!=1.25.1,<1.26,>=1.21.1 in /usr/local/lib/python3.7/dist-packages (from requests[socks]->gdown->dgm-utils==0.1.0) (1.24.3)\n",
            "Requirement already satisfied: chardet<4,>=3.0.2 in /usr/local/lib/python3.7/dist-packages (from requests[socks]->gdown->dgm-utils==0.1.0) (3.0.4)\n",
            "Requirement already satisfied: certifi>=2017.4.17 in /usr/local/lib/python3.7/dist-packages (from requests[socks]->gdown->dgm-utils==0.1.0) (2022.9.24)\n",
            "Requirement already satisfied: PySocks!=1.5.7,>=1.5.6 in /usr/local/lib/python3.7/dist-packages (from requests[socks]->gdown->dgm-utils==0.1.0) (1.7.1)\n",
            "Requirement already satisfied: joblib>=0.11 in /usr/local/lib/python3.7/dist-packages (from scikit-learn->dgm-utils==0.1.0) (1.2.0)\n",
            "Requirement already satisfied: scipy>=1.1.0 in /usr/local/lib/python3.7/dist-packages (from scikit-learn->dgm-utils==0.1.0) (1.7.3)\n",
            "Requirement already satisfied: threadpoolctl>=2.0.0 in /usr/local/lib/python3.7/dist-packages (from scikit-learn->dgm-utils==0.1.0) (3.1.0)\n",
            "Building wheels for collected packages: dgm-utils\n",
            "  Building wheel for dgm-utils (setup.py) ... \u001b[?25l\u001b[?25hdone\n",
            "  Created wheel for dgm-utils: filename=dgm_utils-0.1.0-py3-none-any.whl size=3616 sha256=b4d4ad3e8c6bd66cb90eeab791cd602f4637cdbb065c5b4c15f04754f7e365ff\n",
            "  Stored in directory: /tmp/pip-ephem-wheel-cache-kwjat_jg/wheels/5f/f4/4a/b08ee969ebfaf9c0bf85c9552330f80c03e5275fc38e49df26\n",
            "Successfully built dgm-utils\n",
            "Installing collected packages: dgm-utils\n",
            "Successfully installed dgm-utils-0.1.0\n"
          ]
        }
      ],
      "source": [
        "REPO_NAME = \"2022-2023-DGM-MIPT-course\"\n",
        "!if [ -d {REPO_NAME} ]; then rm -Rf {REPO_NAME}; fi\n",
        "!git clone https://github.com/r-isachenko/{REPO_NAME}.git\n",
        "!cd {REPO_NAME}\n",
        "!pip install ./{REPO_NAME}/homeworks/\n",
        "!rm -Rf {REPO_NAME}"
      ]
    },
    {
      "cell_type": "code",
      "execution_count": null,
      "metadata": {
        "id": "m-44Dxk6SRAp"
      },
      "outputs": [],
      "source": [
        "from dgm_utils import train_model, plot_training_curves\n",
        "from dgm_utils import show_samples, visualize_images, load_pickle"
      ]
    },
    {
      "cell_type": "code",
      "execution_count": null,
      "metadata": {
        "id": "9N19UAQR6y8o"
      },
      "outputs": [],
      "source": []
    },
    {
      "cell_type": "code",
      "execution_count": null,
      "metadata": {
        "id": "zk6rWePvdGFv"
      },
      "outputs": [],
      "source": [
        "import os\n",
        "import numpy as np\n",
        "import matplotlib.pyplot as plt\n",
        "\n",
        "from tqdm.notebook import tqdm\n",
        "\n",
        "import torch\n",
        "import torch.nn as nn\n",
        "import torch.nn.functional as F\n",
        "import torch.utils.data as data\n",
        "\n",
        "USE_CUDA = torch.cuda.is_available()"
      ]
    },
    {
      "cell_type": "code",
      "execution_count": 93,
      "metadata": {
        "id": "_m5NVPFaJGHO"
      },
      "outputs": [],
      "source": [
        "#from google.colab import drive\n",
        "#drive.mount('/content/drive')"
      ]
    },
    {
      "cell_type": "markdown",
      "metadata": {
        "id": "KHouHarf_Hs-"
      },
      "source": [
        "## Task 2: PixelCNN on MNIST (5pt)\n",
        "\n",
        "[PixelCNN](https://arxiv.org/abs/1601.06759) model uses masked causal convoultions on images, we have discussed this model on the lecture 2.\n",
        "\n",
        "Here you have to train this model on MNIST images. See paper for details.\n",
        "\n",
        "Download the data from [here](https://drive.google.com/file/d/1hExV0C8wQWsrA4HfRTq9y9rMo7Pjd9Gw/view?usp=sharing) (you could use the cell below)."
      ]
    },
    {
      "cell_type": "code",
      "execution_count": null,
      "metadata": {
        "colab": {
          "base_uri": "https://localhost:8080/"
        },
        "id": "Ssrb-5jW_Ilh",
        "outputId": "34dfca8b-c235-4d8b-a12c-24a56a6322f5"
      },
      "outputs": [
        {
          "output_type": "stream",
          "name": "stdout",
          "text": [
            "/usr/local/lib/python3.7/dist-packages/gdown/cli.py:131: FutureWarning: Option `--id` was deprecated in version 4.3.1 and will be removed in 5.0. You don't need to pass it anymore to use a file ID.\n",
            "  category=FutureWarning,\n",
            "Downloading...\n",
            "From: https://drive.google.com/uc?id=1hExV0C8wQWsrA4HfRTq9y9rMo7Pjd9Gw\n",
            "To: /content/mnist.pkl\n",
            "100% 188M/188M [00:01<00:00, 105MB/s]\n"
          ]
        }
      ],
      "source": [
        "!gdown --id 1hExV0C8wQWsrA4HfRTq9y9rMo7Pjd9Gw"
      ]
    },
    {
      "cell_type": "code",
      "execution_count": null,
      "metadata": {
        "colab": {
          "base_uri": "https://localhost:8080/",
          "height": 375
        },
        "id": "PiOBcSvx_PN8",
        "outputId": "797a3c97-561a-4191-ed3c-8ceeaa514fb8"
      },
      "outputs": [
        {
          "output_type": "display_data",
          "data": {
            "text/plain": [
              "<Figure size 432x432 with 1 Axes>"
            ],
            "image/png": "[encoded data removed]"
          },
          "metadata": {
            "needs_background": "light"
          }
        }
      ],
      "source": [
        "train_data, test_data = load_pickle('mnist.pkl', flatten=False, binarize=True)\n",
        "# train_data, test_data = load_pickle('./mnist.pkl', flatten=False, binarize=True)\n",
        "visualize_images(train_data, 'MNIST samples')"
      ]
    },
    {
      "cell_type": "markdown",
      "metadata": {
        "id": "elXdTtB7_6Xl"
      },
      "source": [
        "Masked Convolution Layer is the basic building block of PixelCNN model. Now you have to implement it."
      ]
    },
    {
      "cell_type": "code",
      "execution_count": null,
      "metadata": {
        "id": "ybALnsgO_PRW"
      },
      "outputs": [],
      "source": [
        "class MaskedConv2d(nn.Conv2d):\n",
        "    def __init__(self, mask_type, in_channels, out_channels, kernel_size=5):\n",
        "        assert mask_type in ['A', 'B']\n",
        "        super().__init__(in_channels=in_channels, out_channels=out_channels, kernel_size=kernel_size, padding=kernel_size // 2)\n",
        "        self.register_buffer('mask', torch.zeros_like(self.weight))\n",
        "        self.create_mask(mask_type)\n",
        "\n",
        "    def forward(self, input):\n",
        "        # ====\n",
        "        # your code\n",
        "        \n",
        "        # ====\n",
        "        self.weight.data *= self.mask\n",
        "        return super().forward(input)\n",
        "\n",
        "    def create_mask(self, mask_type):\n",
        "        # ====\n",
        "        # your code\n",
        "        # do not forget about mask_type\n",
        "        \n",
        "        # ====\n",
        "        out_channels, in_channels, height, width = self.weight.size()\n",
        "        \n",
        "        self.mask[ :, :, :height // 2,  :] = 1.\n",
        "        self.mask[ :, :, height // 2, :width // 2 + int(mask_type == 'B')] = 1.\n",
        "\n",
        "def test_masked_conv2d():\n",
        "    layer = MaskedConv2d('A', 2, 2)\n",
        "    assert np.allclose(layer.mask[:, :, 2, 2].numpy(), np.zeros((2, 2)))\n",
        "\n",
        "    layer = MaskedConv2d('B', 2, 2)\n",
        "    assert np.allclose(layer.mask[:, :, 2, 2].numpy(), np.ones((2, 2)))\n",
        "\n",
        "\n",
        "test_masked_conv2d()"
      ]
    },
    {
      "cell_type": "markdown",
      "metadata": {
        "id": "lPw0osOrAJFm"
      },
      "source": [
        "[Layer Normalization](https://arxiv.org/abs/1607.06450) helps to stabilize training process."
      ]
    },
    {
      "cell_type": "code",
      "execution_count": null,
      "metadata": {
        "id": "npUNrimpAGUZ"
      },
      "outputs": [],
      "source": [
        "class LayerNorm(nn.LayerNorm):\n",
        "    def __init__(self, n_filters):\n",
        "        super().__init__(n_filters)\n",
        "\n",
        "    def forward(self, x):\n",
        "        x = x.permute(0, 2, 3, 1).contiguous()\n",
        "        x = super().forward(x)\n",
        "        return x.permute(0, 3, 1, 2).contiguous()"
      ]
    },
    {
      "cell_type": "markdown",
      "metadata": {
        "id": "11_PstPkAXig"
      },
      "source": [
        "Now we are ready to construct the main PixelCNN model."
      ]
    },
    {
      "cell_type": "code",
      "execution_count": null,
      "metadata": {
        "id": "xC6E-hrHALYf"
      },
      "outputs": [],
      "source": [
        "from torch.autograd import Variable\n",
        "import torch.nn.functional as F\n",
        "\n",
        "class PixelCNN(nn.Module):\n",
        "    def __init__(\n",
        "        self, \n",
        "        input_shape, \n",
        "        n_filters=64, \n",
        "        kernel_size=7, \n",
        "        n_layers=5, \n",
        "        use_layer_norm=True\n",
        "    ):\n",
        "      \n",
        "        super().__init__()\n",
        "        self.input_shape = input_shape\n",
        "\n",
        "        # ====\n",
        "        # your code\n",
        "        # apply the sequence of MaskedConv2d -> LayerNorm (it is optional) -> ReLU\n",
        "        # the last layer should be MaskedConv2d (not ReLU)\n",
        "        # Note 1: the first conv layer should be of type 'A'\n",
        "        # Note 2: final output_dim in MaskedConv2d must be 2\n",
        "        \n",
        "        # ====\n",
        "        self.net = nn.Sequential()\n",
        "        self.net.add_module('maskA_0', MaskedConv2d('A', 1, n_filters, kernel_size=kernel_size))\n",
        "        if use_layer_norm:\n",
        "          self.net.add_module('layernorm_0', LayerNorm(n_filters))\n",
        "        self.net.add_module('relu_0', nn.ReLU())\n",
        "        i = 0\n",
        "        for i in range(n_layers - 2):\n",
        "            self.net.add_module(f'maskB_{i}', MaskedConv2d('B', n_filters, n_filters, kernel_size=kernel_size))\n",
        "            if use_layer_norm:\n",
        "              self.net.add_module(f'layernorm_{i}', LayerNorm(n_filters))\n",
        "            self.net.add_module(f'relu_{i}', nn.ReLU())\n",
        "        self.net.add_module(f'maskB_{i+1}', MaskedConv2d('B', n_filters, 2, kernel_size=kernel_size))\n",
        "        #self.net.add_module(f'out',nn.Conv2d(n_filters, 2, 1))\n",
        "        self.criterion = nn.CrossEntropyLoss() # nn.NLLLoss()\n",
        "\n",
        "    def forward(self, x):\n",
        "        # read the forward method carefully\n",
        "        batch_size = x.shape[0]\n",
        "        out = (x.float() - 0.5) / 0.5\n",
        "        out = self.net(out)\n",
        "        return out.view(batch_size, 2, 1, *self.input_shape)\n",
        "\n",
        "    def loss(self, x):\n",
        "        # ====\n",
        "        # your code\n",
        "        \n",
        "        # ====\n",
        "        out = self.forward(x)\n",
        "        total_loss = F.cross_entropy(out, x.long())   \n",
        "        #input = Variable(x)\n",
        "        #target = Variable((x.data[:,0] ).long())\n",
        "        #total_loss = self.criterion(self.net(input), target)\n",
        "        return {'total_loss': total_loss}\n",
        "\n",
        "    def sample(self, n):\n",
        "        # read carefully the sampling process\n",
        "        samples = torch.zeros(n, 1, *self.input_shape).cuda()\n",
        "        with torch.no_grad():\n",
        "            for r in range(self.input_shape[0]):\n",
        "                for c in range(self.input_shape[1]):\n",
        "                    logits = self(samples)[:, :, :, r, c]\n",
        "                    probs = F.softmax(logits, dim=1).squeeze(-1)\n",
        "                    samples[:, 0, r, c] = torch.multinomial(probs, num_samples=1).squeeze(-1)\n",
        "        return samples.cpu().numpy()"
      ]
    },
    {
      "cell_type": "code",
      "execution_count": null,
      "metadata": {
        "id": "J25COCth75NY"
      },
      "outputs": [],
      "source": [
        "# ====\n",
        "# your code\n",
        "# choose these parameters\n",
        "# (h ere you could see the tips for the hyperparameters, they could help you, \n",
        "# but sometimes you could find more appropriate values,\n",
        "# experiment with them.)\n",
        "EPOCHS =    20          # > 5\n",
        "BATCH_SIZE = 64         # any adequate value\n",
        "LR = 0.001             # < 1e-2\n",
        "N_LAYERS =  6          # < 10\n",
        "N_FILTERS =  64         # < 128\n",
        "USE_LAYER_NORM = True\n",
        "# ====\n",
        "\n",
        "device = 'cuda' if torch.cuda.is_available() else 'cpu'\n",
        "\n",
        "model = PixelCNN(\n",
        "    input_shape=(28, 28), \n",
        "    n_filters=N_FILTERS, \n",
        "    kernel_size=5, \n",
        "    n_layers=N_LAYERS, \n",
        "    use_layer_norm=USE_LAYER_NORM\n",
        ")\n",
        "\n",
        "\n"
      ]
    },
    {
      "cell_type": "code",
      "execution_count": null,
      "metadata": {
        "id": "k6U0ardQqtax"
      },
      "outputs": [],
      "source": [
        "#chkp = torch.load('model.pt')"
      ]
    },
    {
      "cell_type": "code",
      "execution_count": null,
      "metadata": {
        "id": "TMRXFq676f08"
      },
      "outputs": [],
      "source": [
        "loss = model.loss(torch.zeros(3, 1, 28, 28))\n",
        "assert isinstance(loss, dict)\n",
        "assert 'total_loss' in loss"
      ]
    },
    {
      "cell_type": "code",
      "execution_count": null,
      "metadata": {
        "id": "IKgwhVkECz8S"
      },
      "outputs": [],
      "source": [
        "train_loader = data.DataLoader(train_data, batch_size=BATCH_SIZE, shuffle=True)\n",
        "test_loader = data.DataLoader(test_data, batch_size=BATCH_SIZE)"
      ]
    },
    {
      "cell_type": "code",
      "execution_count": null,
      "metadata": {
        "colab": {
          "base_uri": "https://localhost:8080/",
          "height": 49,
          "referenced_widgets": [
            "52fe7e60e31a4fde956515ae83f8288f",
            "8b9ef4bf3f064200988f7756ff41c5fb",
            "1feb96508e6f47f19ec9ddc1414e8919",
            "4bd195dbbf1b4b9f8786ee8fb2766032",
            "ecff106bf441435fad9edf2d66b7d69d",
            "b99a0e33f5f2493384e2b7a1cf1078fd",
            "98c39b1cce7c41d095dd321c20b20e1f",
            "cc4ac612d90844da89f2ee76e0042031",
            "31d2c3e7eeca4c3abcfa7921d9425767",
            "fb76aef4080747fd953d24371358b36b",
            "514bd8726d934811af0161f5492a9717"
          ]
        },
        "id": "9FI5foNQBlr5",
        "outputId": "6bcb4dc7-4986-4734-938e-6e972a222014"
      },
      "outputs": [
        {
          "data": {
            "application/vnd.jupyter.widget-view+json": {
              "model_id": "52fe7e60e31a4fde956515ae83f8288f",
              "version_major": 2,
              "version_minor": 0
            },
            "text/plain": [
              "  0%|          | 0/20 [00:00<?, ?it/s]"
            ]
          },
          "metadata": {},
          "output_type": "display_data"
        }
      ],
      "source": [
        "train_losses, test_losses = train_model(\n",
        "    model, \n",
        "    train_loader, \n",
        "    test_loader, \n",
        "    epochs=EPOCHS, \n",
        "    lr=LR, \n",
        "    use_tqdm=True, \n",
        "    use_cuda=USE_CUDA\n",
        ")\n",
        "\n",
        "assert test_losses['total_loss'][-1] < 0.10"
      ]
    },
    {
      "cell_type": "code",
      "execution_count": null,
      "metadata": {
        "id": "t8P2HhlS_nGE",
        "colab": {
          "base_uri": "https://localhost:8080/"
        },
        "outputId": "fd94ccbf-3288-4ed3-fc2f-82ad764df901"
      },
      "outputs": [
        {
          "output_type": "execute_result",
          "data": {
            "text/plain": [
              "[0.0922268927693367,\n",
              " 0.08754164770841598,\n",
              " 0.08530459177494049,\n",
              " 0.08457045177221298,\n",
              " 0.08347659130096435,\n",
              " 0.08353176448345184,\n",
              " 0.08250179749727249,\n",
              " 0.08190098930597306,\n",
              " 0.08203668736219406,\n",
              " 0.08160484627485275,\n",
              " 0.08139382016658783,\n",
              " 0.08138573862314225,\n",
              " 0.08075547780990601,\n",
              " 0.08066775294542312,\n",
              " 0.08042781294584274,\n",
              " 0.08065297268629074,\n",
              " 0.08046991567611694,\n",
              " 0.08019115923643112,\n",
              " 0.0799707288980484,\n",
              " 0.0802034761428833]"
            ]
          },
          "metadata": {},
          "execution_count": 77
        }
      ],
      "source": [
        "test_losses['total_loss']"
      ]
    },
    {
      "cell_type": "markdown",
      "metadata": {
        "id": "oLR1d8HICihS"
      },
      "source": [
        "Even if the test loss is bigger than the value in assert, try to visualize train/test curves, it could find you to find the bug."
      ]
    },
    {
      "cell_type": "code",
      "execution_count": null,
      "metadata": {
        "id": "RIiyqsSRCZXs",
        "colab": {
          "base_uri": "https://localhost:8080/",
          "height": 286
        },
        "outputId": "b7c894d5-998d-485c-cf51-0fa37e1c16ac"
      },
      "outputs": [
        {
          "output_type": "display_data",
          "data": {
            "text/plain": [
              "<Figure size 432x288 with 1 Axes>"
            ],
            "image/png": "[encoded data removed]"
          },
          "metadata": {
            "needs_background": "light"
          }
        }
      ],
      "source": [
        "plot_training_curves(train_losses, test_losses)"
      ]
    },
    {
      "cell_type": "markdown",
      "metadata": {
        "id": "bdMY__h8CwE5"
      },
      "source": [
        "Now we sample the new images from the model. You have to emphasize that the sampling from the autoregressive model is slow, because it is a sequential process."
      ]
    },
    {
      "cell_type": "code",
      "execution_count": null,
      "metadata": {
        "id": "skwg5JlRCt0s",
        "colab": {
          "base_uri": "https://localhost:8080/",
          "height": 375
        },
        "outputId": "7be3172b-5288-4f27-d630-8887a02b24cc"
      },
      "outputs": [
        {
          "output_type": "display_data",
          "data": {
            "text/plain": [
              "<Figure size 432x432 with 1 Axes>"
            ],
            "image/png": "[encoded data removed]"
          },
          "metadata": {
            "needs_background": "light"
          }
        }
      ],
      "source": [
        "samples = model.sample(25)\n",
        "show_samples(samples, title='MNIST samples', nrow=5)"
      ]
    },
    {
      "cell_type": "code",
      "execution_count": null,
      "metadata": {
        "id": "rGlhqsgc01as"
      },
      "outputs": [],
      "source": [
        "#torch.save(model, 'model.pt')"
      ]
    },
    {
      "cell_type": "markdown",
      "metadata": {
        "id": "yUv1QflqDAwk"
      },
      "source": [
        "## Task 3: PixelCNN receptive field and autocompletion (3pt)\n",
        "\n",
        "The PixelCNN model is a powerful model. But the model has drawbacks.\n",
        "\n",
        "1. The model is sequential and sampling is really slow (it is a drawback of all AR models).\n",
        "\n",
        "2. Second, the receptive field of the model is not so large. Even if the model is well-trained, the samples do not have long-range history. "
      ]
    },
    {
      "cell_type": "markdown",
      "metadata": {
        "id": "6LK1ttmcqfvW"
      },
      "source": [
        "### Receptive field\n",
        "\n",
        "To validate the second point and check our implementation of masked convolutions, let try to visualize the receptive field of the model. \n",
        "\n",
        "We should see that with increasing number of convolutional layers, the receptive field grows. The receptive field can be empirically measured by backpropagating an arbitrary loss for the output features of a specific pixel with respect to the input. We implement this idea below, and visualize the receptive field below."
      ]
    },
    {
      "cell_type": "code",
      "execution_count": null,
      "metadata": {
        "id": "J1ekd7rGDBTi"
      },
      "outputs": [],
      "source": [
        "from torch.nn.functional import normalize\n",
        "def plot_receptive_field(model, model_name):\n",
        "    # ====\n",
        "    # your code\n",
        "\n",
        "    # 1) create tensor with zeros and set required_grad to True.\n",
        "    zeros = Variable(torch.zeros((1, 1, 28, 28)), requires_grad=True)\n",
        "    # 2) apply model to the tensor\n",
        "    model.zero_grad()\n",
        "    output = model(zeros.to(device))\n",
        "    # 3) apply backward() to the center pixel of model output\n",
        "    x, y = model.input_shape\n",
        "    x_center, y_center = x//2, y//2 \n",
        "    central_pixels = output[:, :, :, x_center, y_center].sum()\n",
        "    central_pixels.backward(retain_graph=True)\n",
        "    # 4) take the gradient with respect to input\n",
        "    grad = zeros.grad.abs()\n",
        "    zeros.grad.fill_(0) # Reset grads\n",
        "    # 5) binary receptive field is an indicator map in which we stay 1's if gradient more than 1e-8\n",
        "    binary_map = (grad.squeeze() > 0).to(torch.float64)\n",
        "    # 6) weighted receptive field is the normalized gradient (values lies in [0, 1])x\n",
        "    weighted_map = normalize(grad.squeeze(), p=2, dim=1)\n",
        "\n",
        "    # ====\n",
        "\n",
        "    # we stack the maps to get RGB image\n",
        "    binary_map = np.stack([binary_map, binary_map, binary_map], axis=-1)\n",
        "    weighted_map = np.stack([weighted_map, weighted_map, weighted_map], axis=-1)\n",
        "\n",
        "    # center point will be red\n",
        "    binary_map[x_center, y_center] = [1, 0, 0]\n",
        "    weighted_map[x_center, y_center] = [1, 0, 0]\n",
        "\n",
        "    fig, ax = plt.subplots(1,2, figsize=(10, 6))\n",
        "    ax[0].imshow(weighted_map, vmin=0.0, vmax=1.0)\n",
        "    ax[1].imshow(binary_map, vmin=0.0, vmax=1.0)\n",
        "\n",
        "    ax[0].set_title(f\"Weighted receptive field for {model_name}\")\n",
        "    ax[1].set_title(f\"Binary receptive field for {model_name}\")\n",
        "    \n",
        "    ax[0].axis('off')\n",
        "    ax[1].axis('off')\n",
        "    plt.show()"
      ]
    },
    {
      "cell_type": "code",
      "execution_count": null,
      "metadata": {
        "colab": {
          "base_uri": "https://localhost:8080/",
          "height": 1000
        },
        "id": "ruOurWdFDIYP",
        "outputId": "11aed207-450c-4850-8688-b042ec7adebe"
      },
      "outputs": [
        {
          "output_type": "display_data",
          "data": {
            "text/plain": [
              "<Figure size 720x432 with 2 Axes>"
            ],
            "image/png": "[encoded data removed]"
          },
          "metadata": {
            "needs_background": "light"
          }
        },
        {
          "output_type": "display_data",
          "data": {
            "text/plain": [
              "<Figure size 720x432 with 2 Axes>"
            ],
            "image/png": "[encoded data removed]"
          },
          "metadata": {
            "needs_background": "light"
          }
        },
        {
          "output_type": "display_data",
          "data": {
            "text/plain": [
              "<Figure size 720x432 with 2 Axes>"
            ],
            "image/png": "[encoded data removed]"
          },
          "metadata": {
            "needs_background": "light"
          }
        },
        {
          "output_type": "display_data",
          "data": {
            "text/plain": [
              "<Figure size 720x432 with 2 Axes>"
            ],
            "image/png": "[encoded data removed]"
          },
          "metadata": {
            "needs_background": "light"
          }
        }
      ],
      "source": [
        "for n_layers in [1, 3, 5, 6]:\n",
        "    model = PixelCNN(\n",
        "        input_shape=(28, 28), \n",
        "        n_filters=32, \n",
        "        kernel_size=5, \n",
        "        n_layers=n_layers, \n",
        "        use_layer_norm=True\n",
        "    )\n",
        "    if USE_CUDA:\n",
        "        model = model.cuda()\n",
        "    plot_receptive_field(model, model_name=f\"PixelCNN {n_layers} layers\")"
      ]
    },
    {
      "cell_type": "markdown",
      "metadata": {
        "id": "Njl3VAmruh_v"
      },
      "source": [
        "You have to see that PixelCNN has strange blind spot in binary receptive field plot on the right side. This is a known issue of PixelCNN model. Please, try to understand why it happens. \n",
        "\n",
        "One way to solve this problem is a [GatedPixelCNN](https://arxiv.org/pdf/1606.05328.pdf) model (see paper, if you are interested in)."
      ]
    },
    {
      "cell_type": "markdown",
      "metadata": {
        "id": "UTiL7PuG-uwc"
      },
      "source": [
        " This is because the features of the pixels above, which we use for convolution, do not contain any information of the pixels on the right of the same row. If they would, we would be “cheating” and actually looking into the future. "
      ]
    },
    {
      "cell_type": "markdown",
      "metadata": {
        "id": "z8eXfFdWzoVu"
      },
      "source": [
        "### Image autocompletion\n",
        "\n",
        "The last feature of autoregressive model that we try is auto-completing an image. As autoregressive models predict pixels one by one, we can set the first pixels to predefined values and check how the model completes the image. \n",
        "\n",
        "For implementing this, we just need to skip the iterations in the sampling loop that already have a value unequals to -1. \n",
        "We redefine the sample method in out PixelCNN class to allow it to take init of the sample."
      ]
    },
    {
      "cell_type": "code",
      "execution_count": null,
      "metadata": {
        "id": "2X24nc_eqET-"
      },
      "outputs": [],
      "source": [
        "class PixelCNNAutoComplete(PixelCNN):\n",
        "    def sample(self, n, init=None):\n",
        "        # ====\n",
        "        # your code\n",
        "        # this method almost the same as the method of the base PixelCNN model\n",
        "        # but now if init is given, this tensor will be used as a starting image. \n",
        "        # The pixels to fill should be -1 in the input tensor.\n",
        "        #if init is not None:\n",
        "        #  if len(init.shape) == 3:\n",
        "        #    init = init.repeat(n)\n",
        "        samples = torch.zeros((n, 1, *self.input_shape), dtype=torch.long).to(device) - 1 if init is None else init\n",
        "        with torch.no_grad():\n",
        "            for r in range(self.input_shape[0]):\n",
        "                for c in range(self.input_shape[1]):\n",
        "                    if (samples[:,0,r,c] != -1).all().item():\n",
        "                        continue\n",
        "                    logits = self(samples)[ :, :, 0, r, c]\n",
        "                    probs = F.softmax(logits, dim=-1).squeeze(-1)\n",
        "                    samples[:, 0, r, c] = torch.multinomial(probs, num_samples=1).squeeze(-1)\n",
        "        return samples.cpu().numpy()\n",
        "        # ===="
      ]
    },
    {
      "cell_type": "markdown",
      "metadata": {
        "id": "l6x2bX4Z0w5E"
      },
      "source": [
        "You have to repeat the model training."
      ]
    },
    {
      "cell_type": "code",
      "execution_count": null,
      "metadata": {
        "id": "qFdMAilywnI-"
      },
      "outputs": [],
      "source": [
        "model = PixelCNNAutoComplete(\n",
        "    input_shape=(28, 28), \n",
        "    n_filters=N_FILTERS, \n",
        "    kernel_size=5, \n",
        "    n_layers=N_LAYERS, \n",
        "    use_layer_norm=USE_LAYER_NORM\n",
        ")\n"
      ]
    },
    {
      "cell_type": "code",
      "execution_count": null,
      "metadata": {
        "colab": {
          "base_uri": "https://localhost:8080/",
          "height": 49,
          "referenced_widgets": [
            "fe26e0d70aff4ba49567730c889aa356",
            "efeff076b30e44a9a497fa65495eb8ce",
            "02d8a9118aef4dadbf79bacd620abe94",
            "b625c5a1824d4ca0936c1766c4400eef",
            "a25d9ff07b564d2dba160d2351841335",
            "b434bbbaaa754b0a85659c2a4f94f5ca",
            "f3698fb758874df8b43d9852f285c131",
            "a4aff3e187904d32adcc3c8c373e6f53",
            "ccc84d57ce3642bbacdde84c19bdbdd0",
            "fc671db7851e4336a68b01f9fd00a477",
            "2026dfeacce44d809a8e92ef94f7546b"
          ]
        },
        "id": "_wsawZMsGuUO",
        "outputId": "acfcde7d-04ae-432f-a9be-1ded8137c33d"
      },
      "outputs": [
        {
          "output_type": "display_data",
          "data": {
            "text/plain": [
              "  0%|          | 0/20 [00:00<?, ?it/s]"
            ],
            "application/vnd.jupyter.widget-view+json": {
              "version_major": 2,
              "version_minor": 0,
              "model_id": "fe26e0d70aff4ba49567730c889aa356"
            }
          },
          "metadata": {}
        }
      ],
      "source": [
        "EPOCHS = 20\n",
        "train_losses, test_losses = train_model(\n",
        "    model, \n",
        "    train_loader, \n",
        "    test_loader, \n",
        "    epochs=EPOCHS, \n",
        "    lr=LR, \n",
        "    use_tqdm=True, \n",
        "    use_cuda=USE_CUDA\n",
        ")\n",
        "\n",
        "assert test_losses['total_loss'][-1] < 0.10"
      ]
    },
    {
      "cell_type": "markdown",
      "metadata": {
        "id": "Rd9rpg2I0paF"
      },
      "source": [
        "We randomly take images from the training set, mask the lower half of the image (set -1's), and let the model autocomplete it. We do this several times for each image to see the diversity of samples."
      ]
    },
    {
      "cell_type": "code",
      "execution_count": null,
      "metadata": {
        "id": "yR0zivWlwsYR",
        "colab": {
          "base_uri": "https://localhost:8080/",
          "height": 992
        },
        "outputId": "30eac766-6f55-4aca-ce58-55dba3df8aa1"
      },
      "outputs": [
        {
          "output_type": "display_data",
          "data": {
            "text/plain": [
              "<Figure size 432x432 with 1 Axes>"
            ],
            "image/png": "[encoded data removed]"
          },
          "metadata": {
            "needs_background": "light"
          }
        },
        {
          "output_type": "display_data",
          "data": {
            "text/plain": [
              "<Figure size 432x432 with 1 Axes>"
            ],
            "image/png": "[encoded data removed]"
          },
          "metadata": {
            "needs_background": "light"
          }
        },
        {
          "output_type": "display_data",
          "data": {
            "text/plain": [
              "<Figure size 432x432 with 1 Axes>"
            ],
            "image/png": "[encoded data removed]"
          },
          "metadata": {
            "needs_background": "light"
          }
        },
        {
          "output_type": "display_data",
          "data": {
            "text/plain": [
              "<Figure size 432x432 with 1 Axes>"
            ],
            "image/png": "[encoded data removed]"
          },
          "metadata": {
            "needs_background": "light"
          }
        },
        {
          "output_type": "display_data",
          "data": {
            "text/plain": [
              "<Figure size 432x432 with 1 Axes>"
            ],
            "image/png": "[encoded data removed]"
          },
          "metadata": {
            "needs_background": "light"
          }
        },
        {
          "output_type": "display_data",
          "data": {
            "text/plain": [
              "<Figure size 432x432 with 1 Axes>"
            ],
            "image/png": "[encoded data removed]"
          },
          "metadata": {
            "needs_background": "light"
          }
        }
      ],
      "source": [
        "def autocomplete_image(image, model, n_samples):\n",
        "    # Remove lower half of the image\n",
        "    image_init = image.copy()\n",
        "    image_init[:, image.shape[1] // 2:, :] = -1\n",
        "    samples = np.stack([image, np.maximum(image_init, 0)])\n",
        "    show_samples(samples, title=\"Original image and input image to sampling\", nrow=2)\n",
        "    # Generate completions\n",
        "    image_init = torch.tensor(image_init)\n",
        "    image_init = image_init.unsqueeze(dim=0).expand(n_samples, -1, -1, -1).cuda()\n",
        "    img_generated = model.sample(n_samples, image_init)\n",
        "    show_samples(img_generated, title=\"n_samples\", nrow=4)\n",
        "\n",
        "\n",
        "for i in range(1, 4):\n",
        "    autocomplete_image(train_data[i], model, n_samples=4)"
      ]
    },
    {
      "cell_type": "code",
      "execution_count": null,
      "metadata": {
        "id": "G1Ia85tyGh0J"
      },
      "outputs": [],
      "source": []
    }
  ],
  "metadata": {
    "accelerator": "GPU",
    "colab": {
      "collapsed_sections": [],
      "provenance": [],
      "include_colab_link": true
    },
    "kernelspec": {
      "display_name": "Python 3.9.7 ('base')",
      "language": "python",
      "name": "python3"
    },
    "language_info": {
      "codemirror_mode": {
        "name": "ipython",
        "version": 3
      },
      "file_extension": ".py",
      "mimetype": "text/x-python",
      "name": "python",
      "nbconvert_exporter": "python",
      "pygments_lexer": "ipython3",
      "version": "3.9.7"
    },
    "vscode": {
      "interpreter": {
        "hash": "f08154012ddadd8e950e6e9e035c7a7b32c136e7647e9b7c77e02eb723a8bedb"
      }
    },
    "widgets": {
      "application/vnd.jupyter.widget-state+json": {
        "52fe7e60e31a4fde956515ae83f8288f": {
          "model_module": "@jupyter-widgets/controls",
          "model_name": "HBoxModel",
          "model_module_version": "1.5.0",
          "state": {
            "_dom_classes": [],
            "_model_module": "@jupyter-widgets/controls",
            "_model_module_version": "1.5.0",
            "_model_name": "HBoxModel",
            "_view_count": null,
            "_view_module": "@jupyter-widgets/controls",
            "_view_module_version": "1.5.0",
            "_view_name": "HBoxView",
            "box_style": "",
            "children": [
              "IPY_MODEL_8b9ef4bf3f064200988f7756ff41c5fb",
              "IPY_MODEL_1feb96508e6f47f19ec9ddc1414e8919",
              "IPY_MODEL_4bd195dbbf1b4b9f8786ee8fb2766032"
            ],
            "layout": "IPY_MODEL_ecff106bf441435fad9edf2d66b7d69d"
          }
        },
        "8b9ef4bf3f064200988f7756ff41c5fb": {
          "model_module": "@jupyter-widgets/controls",
          "model_name": "HTMLModel",
          "model_module_version": "1.5.0",
          "state": {
            "_dom_classes": [],
            "_model_module": "@jupyter-widgets/controls",
            "_model_module_version": "1.5.0",
            "_model_name": "HTMLModel",
            "_view_count": null,
            "_view_module": "@jupyter-widgets/controls",
            "_view_module_version": "1.5.0",
            "_view_name": "HTMLView",
            "description": "",
            "description_tooltip": null,
            "layout": "IPY_MODEL_b99a0e33f5f2493384e2b7a1cf1078fd",
            "placeholder": "​",
            "style": "IPY_MODEL_98c39b1cce7c41d095dd321c20b20e1f",
            "value": "100%"
          }
        },
        "1feb96508e6f47f19ec9ddc1414e8919": {
          "model_module": "@jupyter-widgets/controls",
          "model_name": "FloatProgressModel",
          "model_module_version": "1.5.0",
          "state": {
            "_dom_classes": [],
            "_model_module": "@jupyter-widgets/controls",
            "_model_module_version": "1.5.0",
            "_model_name": "FloatProgressModel",
            "_view_count": null,
            "_view_module": "@jupyter-widgets/controls",
            "_view_module_version": "1.5.0",
            "_view_name": "ProgressView",
            "bar_style": "success",
            "description": "",
            "description_tooltip": null,
            "layout": "IPY_MODEL_cc4ac612d90844da89f2ee76e0042031",
            "max": 20,
            "min": 0,
            "orientation": "horizontal",
            "style": "IPY_MODEL_31d2c3e7eeca4c3abcfa7921d9425767",
            "value": 20
          }
        },
        "4bd195dbbf1b4b9f8786ee8fb2766032": {
          "model_module": "@jupyter-widgets/controls",
          "model_name": "HTMLModel",
          "model_module_version": "1.5.0",
          "state": {
            "_dom_classes": [],
            "_model_module": "@jupyter-widgets/controls",
            "_model_module_version": "1.5.0",
            "_model_name": "HTMLModel",
            "_view_count": null,
            "_view_module": "@jupyter-widgets/controls",
            "_view_module_version": "1.5.0",
            "_view_name": "HTMLView",
            "description": "",
            "description_tooltip": null,
            "layout": "IPY_MODEL_fb76aef4080747fd953d24371358b36b",
            "placeholder": "​",
            "style": "IPY_MODEL_514bd8726d934811af0161f5492a9717",
            "value": " 20/20 [08:14&lt;00:00, 24.67s/it]"
          }
        },
        "ecff106bf441435fad9edf2d66b7d69d": {
          "model_module": "@jupyter-widgets/base",
          "model_name": "LayoutModel",
          "model_module_version": "1.2.0",
          "state": {
            "_model_module": "@jupyter-widgets/base",
            "_model_module_version": "1.2.0",
            "_model_name": "LayoutModel",
            "_view_count": null,
            "_view_module": "@jupyter-widgets/base",
            "_view_module_version": "1.2.0",
            "_view_name": "LayoutView",
            "align_content": null,
            "align_items": null,
            "align_self": null,
            "border": null,
            "bottom": null,
            "display": null,
            "flex": null,
            "flex_flow": null,
            "grid_area": null,
            "grid_auto_columns": null,
            "grid_auto_flow": null,
            "grid_auto_rows": null,
            "grid_column": null,
            "grid_gap": null,
            "grid_row": null,
            "grid_template_areas": null,
            "grid_template_columns": null,
            "grid_template_rows": null,
            "height": null,
            "justify_content": null,
            "justify_items": null,
            "left": null,
            "margin": null,
            "max_height": null,
            "max_width": null,
            "min_height": null,
            "min_width": null,
            "object_fit": null,
            "object_position": null,
            "order": null,
            "overflow": null,
            "overflow_x": null,
            "overflow_y": null,
            "padding": null,
            "right": null,
            "top": null,
            "visibility": null,
            "width": null
          }
        },
        "b99a0e33f5f2493384e2b7a1cf1078fd": {
          "model_module": "@jupyter-widgets/base",
          "model_name": "LayoutModel",
          "model_module_version": "1.2.0",
          "state": {
            "_model_module": "@jupyter-widgets/base",
            "_model_module_version": "1.2.0",
            "_model_name": "LayoutModel",
            "_view_count": null,
            "_view_module": "@jupyter-widgets/base",
            "_view_module_version": "1.2.0",
            "_view_name": "LayoutView",
            "align_content": null,
            "align_items": null,
            "align_self": null,
            "border": null,
            "bottom": null,
            "display": null,
            "flex": null,
            "flex_flow": null,
            "grid_area": null,
            "grid_auto_columns": null,
            "grid_auto_flow": null,
            "grid_auto_rows": null,
            "grid_column": null,
            "grid_gap": null,
            "grid_row": null,
            "grid_template_areas": null,
            "grid_template_columns": null,
            "grid_template_rows": null,
            "height": null,
            "justify_content": null,
            "justify_items": null,
            "left": null,
            "margin": null,
            "max_height": null,
            "max_width": null,
            "min_height": null,
            "min_width": null,
            "object_fit": null,
            "object_position": null,
            "order": null,
            "overflow": null,
            "overflow_x": null,
            "overflow_y": null,
            "padding": null,
            "right": null,
            "top": null,
            "visibility": null,
            "width": null
          }
        },
        "98c39b1cce7c41d095dd321c20b20e1f": {
          "model_module": "@jupyter-widgets/controls",
          "model_name": "DescriptionStyleModel",
          "model_module_version": "1.5.0",
          "state": {
            "_model_module": "@jupyter-widgets/controls",
            "_model_module_version": "1.5.0",
            "_model_name": "DescriptionStyleModel",
            "_view_count": null,
            "_view_module": "@jupyter-widgets/base",
            "_view_module_version": "1.2.0",
            "_view_name": "StyleView",
            "description_width": ""
          }
        },
        "cc4ac612d90844da89f2ee76e0042031": {
          "model_module": "@jupyter-widgets/base",
          "model_name": "LayoutModel",
          "model_module_version": "1.2.0",
          "state": {
            "_model_module": "@jupyter-widgets/base",
            "_model_module_version": "1.2.0",
            "_model_name": "LayoutModel",
            "_view_count": null,
            "_view_module": "@jupyter-widgets/base",
            "_view_module_version": "1.2.0",
            "_view_name": "LayoutView",
            "align_content": null,
            "align_items": null,
            "align_self": null,
            "border": null,
            "bottom": null,
            "display": null,
            "flex": null,
            "flex_flow": null,
            "grid_area": null,
            "grid_auto_columns": null,
            "grid_auto_flow": null,
            "grid_auto_rows": null,
            "grid_column": null,
            "grid_gap": null,
            "grid_row": null,
            "grid_template_areas": null,
            "grid_template_columns": null,
            "grid_template_rows": null,
            "height": null,
            "justify_content": null,
            "justify_items": null,
            "left": null,
            "margin": null,
            "max_height": null,
            "max_width": null,
            "min_height": null,
            "min_width": null,
            "object_fit": null,
            "object_position": null,
            "order": null,
            "overflow": null,
            "overflow_x": null,
            "overflow_y": null,
            "padding": null,
            "right": null,
            "top": null,
            "visibility": null,
            "width": null
          }
        },
        "31d2c3e7eeca4c3abcfa7921d9425767": {
          "model_module": "@jupyter-widgets/controls",
          "model_name": "ProgressStyleModel",
          "model_module_version": "1.5.0",
          "state": {
            "_model_module": "@jupyter-widgets/controls",
            "_model_module_version": "1.5.0",
            "_model_name": "ProgressStyleModel",
            "_view_count": null,
            "_view_module": "@jupyter-widgets/base",
            "_view_module_version": "1.2.0",
            "_view_name": "StyleView",
            "bar_color": null,
            "description_width": ""
          }
        },
        "fb76aef4080747fd953d24371358b36b": {
          "model_module": "@jupyter-widgets/base",
          "model_name": "LayoutModel",
          "model_module_version": "1.2.0",
          "state": {
            "_model_module": "@jupyter-widgets/base",
            "_model_module_version": "1.2.0",
            "_model_name": "LayoutModel",
            "_view_count": null,
            "_view_module": "@jupyter-widgets/base",
            "_view_module_version": "1.2.0",
            "_view_name": "LayoutView",
            "align_content": null,
            "align_items": null,
            "align_self": null,
            "border": null,
            "bottom": null,
            "display": null,
            "flex": null,
            "flex_flow": null,
            "grid_area": null,
            "grid_auto_columns": null,
            "grid_auto_flow": null,
            "grid_auto_rows": null,
            "grid_column": null,
            "grid_gap": null,
            "grid_row": null,
            "grid_template_areas": null,
            "grid_template_columns": null,
            "grid_template_rows": null,
            "height": null,
            "justify_content": null,
            "justify_items": null,
            "left": null,
            "margin": null,
            "max_height": null,
            "max_width": null,
            "min_height": null,
            "min_width": null,
            "object_fit": null,
            "object_position": null,
            "order": null,
            "overflow": null,
            "overflow_x": null,
            "overflow_y": null,
            "padding": null,
            "right": null,
            "top": null,
            "visibility": null,
            "width": null
          }
        },
        "514bd8726d934811af0161f5492a9717": {
          "model_module": "@jupyter-widgets/controls",
          "model_name": "DescriptionStyleModel",
          "model_module_version": "1.5.0",
          "state": {
            "_model_module": "@jupyter-widgets/controls",
            "_model_module_version": "1.5.0",
            "_model_name": "DescriptionStyleModel",
            "_view_count": null,
            "_view_module": "@jupyter-widgets/base",
            "_view_module_version": "1.2.0",
            "_view_name": "StyleView",
            "description_width": ""
          }
        },
        "fe26e0d70aff4ba49567730c889aa356": {
          "model_module": "@jupyter-widgets/controls",
          "model_name": "HBoxModel",
          "model_module_version": "1.5.0",
          "state": {
            "_dom_classes": [],
            "_model_module": "@jupyter-widgets/controls",
            "_model_module_version": "1.5.0",
            "_model_name": "HBoxModel",
            "_view_count": null,
            "_view_module": "@jupyter-widgets/controls",
            "_view_module_version": "1.5.0",
            "_view_name": "HBoxView",
            "box_style": "",
            "children": [
              "IPY_MODEL_efeff076b30e44a9a497fa65495eb8ce",
              "IPY_MODEL_02d8a9118aef4dadbf79bacd620abe94",
              "IPY_MODEL_b625c5a1824d4ca0936c1766c4400eef"
            ],
            "layout": "IPY_MODEL_a25d9ff07b564d2dba160d2351841335"
          }
        },
        "efeff076b30e44a9a497fa65495eb8ce": {
          "model_module": "@jupyter-widgets/controls",
          "model_name": "HTMLModel",
          "model_module_version": "1.5.0",
          "state": {
            "_dom_classes": [],
            "_model_module": "@jupyter-widgets/controls",
            "_model_module_version": "1.5.0",
            "_model_name": "HTMLModel",
            "_view_count": null,
            "_view_module": "@jupyter-widgets/controls",
            "_view_module_version": "1.5.0",
            "_view_name": "HTMLView",
            "description": "",
            "description_tooltip": null,
            "layout": "IPY_MODEL_b434bbbaaa754b0a85659c2a4f94f5ca",
            "placeholder": "​",
            "style": "IPY_MODEL_f3698fb758874df8b43d9852f285c131",
            "value": "100%"
          }
        },
        "02d8a9118aef4dadbf79bacd620abe94": {
          "model_module": "@jupyter-widgets/controls",
          "model_name": "FloatProgressModel",
          "model_module_version": "1.5.0",
          "state": {
            "_dom_classes": [],
            "_model_module": "@jupyter-widgets/controls",
            "_model_module_version": "1.5.0",
            "_model_name": "FloatProgressModel",
            "_view_count": null,
            "_view_module": "@jupyter-widgets/controls",
            "_view_module_version": "1.5.0",
            "_view_name": "ProgressView",
            "bar_style": "success",
            "description": "",
            "description_tooltip": null,
            "layout": "IPY_MODEL_a4aff3e187904d32adcc3c8c373e6f53",
            "max": 20,
            "min": 0,
            "orientation": "horizontal",
            "style": "IPY_MODEL_ccc84d57ce3642bbacdde84c19bdbdd0",
            "value": 20
          }
        },
        "b625c5a1824d4ca0936c1766c4400eef": {
          "model_module": "@jupyter-widgets/controls",
          "model_name": "HTMLModel",
          "model_module_version": "1.5.0",
          "state": {
            "_dom_classes": [],
            "_model_module": "@jupyter-widgets/controls",
            "_model_module_version": "1.5.0",
            "_model_name": "HTMLModel",
            "_view_count": null,
            "_view_module": "@jupyter-widgets/controls",
            "_view_module_version": "1.5.0",
            "_view_name": "HTMLView",
            "description": "",
            "description_tooltip": null,
            "layout": "IPY_MODEL_fc671db7851e4336a68b01f9fd00a477",
            "placeholder": "​",
            "style": "IPY_MODEL_2026dfeacce44d809a8e92ef94f7546b",
            "value": " 20/20 [08:11&lt;00:00, 24.66s/it]"
          }
        },
        "a25d9ff07b564d2dba160d2351841335": {
          "model_module": "@jupyter-widgets/base",
          "model_name": "LayoutModel",
          "model_module_version": "1.2.0",
          "state": {
            "_model_module": "@jupyter-widgets/base",
            "_model_module_version": "1.2.0",
            "_model_name": "LayoutModel",
            "_view_count": null,
            "_view_module": "@jupyter-widgets/base",
            "_view_module_version": "1.2.0",
            "_view_name": "LayoutView",
            "align_content": null,
            "align_items": null,
            "align_self": null,
            "border": null,
            "bottom": null,
            "display": null,
            "flex": null,
            "flex_flow": null,
            "grid_area": null,
            "grid_auto_columns": null,
            "grid_auto_flow": null,
            "grid_auto_rows": null,
            "grid_column": null,
            "grid_gap": null,
            "grid_row": null,
            "grid_template_areas": null,
            "grid_template_columns": null,
            "grid_template_rows": null,
            "height": null,
            "justify_content": null,
            "justify_items": null,
            "left": null,
            "margin": null,
            "max_height": null,
            "max_width": null,
            "min_height": null,
            "min_width": null,
            "object_fit": null,
            "object_position": null,
            "order": null,
            "overflow": null,
            "overflow_x": null,
            "overflow_y": null,
            "padding": null,
            "right": null,
            "top": null,
            "visibility": null,
            "width": null
          }
        },
        "b434bbbaaa754b0a85659c2a4f94f5ca": {
          "model_module": "@jupyter-widgets/base",
          "model_name": "LayoutModel",
          "model_module_version": "1.2.0",
          "state": {
            "_model_module": "@jupyter-widgets/base",
            "_model_module_version": "1.2.0",
            "_model_name": "LayoutModel",
            "_view_count": null,
            "_view_module": "@jupyter-widgets/base",
            "_view_module_version": "1.2.0",
            "_view_name": "LayoutView",
            "align_content": null,
            "align_items": null,
            "align_self": null,
            "border": null,
            "bottom": null,
            "display": null,
            "flex": null,
            "flex_flow": null,
            "grid_area": null,
            "grid_auto_columns": null,
            "grid_auto_flow": null,
            "grid_auto_rows": null,
            "grid_column": null,
            "grid_gap": null,
            "grid_row": null,
            "grid_template_areas": null,
            "grid_template_columns": null,
            "grid_template_rows": null,
            "height": null,
            "justify_content": null,
            "justify_items": null,
            "left": null,
            "margin": null,
            "max_height": null,
            "max_width": null,
            "min_height": null,
            "min_width": null,
            "object_fit": null,
            "object_position": null,
            "order": null,
            "overflow": null,
            "overflow_x": null,
            "overflow_y": null,
            "padding": null,
            "right": null,
            "top": null,
            "visibility": null,
            "width": null
          }
        },
        "f3698fb758874df8b43d9852f285c131": {
          "model_module": "@jupyter-widgets/controls",
          "model_name": "DescriptionStyleModel",
          "model_module_version": "1.5.0",
          "state": {
            "_model_module": "@jupyter-widgets/controls",
            "_model_module_version": "1.5.0",
            "_model_name": "DescriptionStyleModel",
            "_view_count": null,
            "_view_module": "@jupyter-widgets/base",
            "_view_module_version": "1.2.0",
            "_view_name": "StyleView",
            "description_width": ""
          }
        },
        "a4aff3e187904d32adcc3c8c373e6f53": {
          "model_module": "@jupyter-widgets/base",
          "model_name": "LayoutModel",
          "model_module_version": "1.2.0",
          "state": {
            "_model_module": "@jupyter-widgets/base",
            "_model_module_version": "1.2.0",
            "_model_name": "LayoutModel",
            "_view_count": null,
            "_view_module": "@jupyter-widgets/base",
            "_view_module_version": "1.2.0",
            "_view_name": "LayoutView",
            "align_content": null,
            "align_items": null,
            "align_self": null,
            "border": null,
            "bottom": null,
            "display": null,
            "flex": null,
            "flex_flow": null,
            "grid_area": null,
            "grid_auto_columns": null,
            "grid_auto_flow": null,
            "grid_auto_rows": null,
            "grid_column": null,
            "grid_gap": null,
            "grid_row": null,
            "grid_template_areas": null,
            "grid_template_columns": null,
            "grid_template_rows": null,
            "height": null,
            "justify_content": null,
            "justify_items": null,
            "left": null,
            "margin": null,
            "max_height": null,
            "max_width": null,
            "min_height": null,
            "min_width": null,
            "object_fit": null,
            "object_position": null,
            "order": null,
            "overflow": null,
            "overflow_x": null,
            "overflow_y": null,
            "padding": null,
            "right": null,
            "top": null,
            "visibility": null,
            "width": null
          }
        },
        "ccc84d57ce3642bbacdde84c19bdbdd0": {
          "model_module": "@jupyter-widgets/controls",
          "model_name": "ProgressStyleModel",
          "model_module_version": "1.5.0",
          "state": {
            "_model_module": "@jupyter-widgets/controls",
            "_model_module_version": "1.5.0",
            "_model_name": "ProgressStyleModel",
            "_view_count": null,
            "_view_module": "@jupyter-widgets/base",
            "_view_module_version": "1.2.0",
            "_view_name": "StyleView",
            "bar_color": null,
            "description_width": ""
          }
        },
        "fc671db7851e4336a68b01f9fd00a477": {
          "model_module": "@jupyter-widgets/base",
          "model_name": "LayoutModel",
          "model_module_version": "1.2.0",
          "state": {
            "_model_module": "@jupyter-widgets/base",
            "_model_module_version": "1.2.0",
            "_model_name": "LayoutModel",
            "_view_count": null,
            "_view_module": "@jupyter-widgets/base",
            "_view_module_version": "1.2.0",
            "_view_name": "LayoutView",
            "align_content": null,
            "align_items": null,
            "align_self": null,
            "border": null,
            "bottom": null,
            "display": null,
            "flex": null,
            "flex_flow": null,
            "grid_area": null,
            "grid_auto_columns": null,
            "grid_auto_flow": null,
            "grid_auto_rows": null,
            "grid_column": null,
            "grid_gap": null,
            "grid_row": null,
            "grid_template_areas": null,
            "grid_template_columns": null,
            "grid_template_rows": null,
            "height": null,
            "justify_content": null,
            "justify_items": null,
            "left": null,
            "margin": null,
            "max_height": null,
            "max_width": null,
            "min_height": null,
            "min_width": null,
            "object_fit": null,
            "object_position": null,
            "order": null,
            "overflow": null,
            "overflow_x": null,
            "overflow_y": null,
            "padding": null,
            "right": null,
            "top": null,
            "visibility": null,
            "width": null
          }
        },
        "2026dfeacce44d809a8e92ef94f7546b": {
          "model_module": "@jupyter-widgets/controls",
          "model_name": "DescriptionStyleModel",
          "model_module_version": "1.5.0",
          "state": {
            "_model_module": "@jupyter-widgets/controls",
            "_model_module_version": "1.5.0",
            "_model_name": "DescriptionStyleModel",
            "_view_count": null,
            "_view_module": "@jupyter-widgets/base",
            "_view_module_version": "1.2.0",
            "_view_name": "StyleView",
            "description_width": ""
          }
        }
      }
    }
  },
  "nbformat": 4,
  "nbformat_minor": 0
}